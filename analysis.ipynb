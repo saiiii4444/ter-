{
 "cells": [
  {
   "cell_type": "markdown",
   "id": "20d6b362",
   "metadata": {},
   "source": [
    "# Sales Performance Analysis\n",
    "\n",
    "This notebook loads a synthetic sales dataset and explores sales trends across time, regions and products."
   ]
  },
  {
   "cell_type": "code",
   "execution_count": null,
   "id": "e30375a2",
   "metadata": {},
   "outputs": [],
   "source": [
    "import pandas as pd\n",
    "import matplotlib.pyplot as plt\n",
    "import seaborn as sns\n",
    "\n",
    "# Load data\n",
    "sales_df = pd.read_csv('sales_data.csv')\n",
    "sales_df['Date'] = pd.to_datetime(sales_df['Date'])\n",
    "sales_df.head()"
   ]
  },
  {
   "cell_type": "markdown",
   "id": "005abbed",
   "metadata": {},
   "source": [
    "## Total sales over time"
   ]
  },
  {
   "cell_type": "code",
   "execution_count": null,
   "id": "f706b340",
   "metadata": {},
   "outputs": [],
   "source": [
    "monthly_sales = sales_df.groupby('Date')['Sales'].sum().reset_index()\n",
    "plt.figure(figsize=(10,6))\n",
    "plt.plot(monthly_sales['Date'], monthly_sales['Sales'], marker='o')\n",
    "plt.title('Total Sales Over Time')\n",
    "plt.xlabel('Date')\n",
    "plt.ylabel('Sales')\n",
    "plt.xticks(rotation=45)\n",
    "plt.grid(True, linestyle='--', alpha=0.5)\n",
    "plt.tight_layout()\n",
    "plt.show()"
   ]
  },
  {
   "cell_type": "markdown",
   "id": "36317856",
   "metadata": {},
   "source": [
    "## Sales by region"
   ]
  },
  {
   "cell_type": "code",
   "execution_count": null,
   "id": "a12ccebe",
   "metadata": {},
   "outputs": [],
   "source": [
    "region_sales = sales_df.groupby('Region')['Sales'].sum().reset_index().sort_values('Sales', ascending=False)\n",
    "plt.figure(figsize=(8,5))\n",
    "sns.barplot(x='Sales', y='Region', data=region_sales)\n",
    "plt.title('Total Sales by Region')\n",
    "plt.tight_layout()\n",
    "plt.show()"
   ]
  },
  {
   "cell_type": "markdown",
   "id": "88f31466",
   "metadata": {},
   "source": [
    "## Sales by product"
   ]
  },
  {
   "cell_type": "code",
   "execution_count": null,
   "id": "8f9c1186",
   "metadata": {},
   "outputs": [],
   "source": [
    "product_sales = sales_df.groupby('Product')['Sales'].sum().reset_index().sort_values('Sales', ascending=False)\n",
    "plt.figure(figsize=(8,5))\n",
    "sns.barplot(x='Sales', y='Product', data=product_sales)\n",
    "plt.title('Total Sales by Product')\n",
    "plt.tight_layout()\n",
    "plt.show()"
   ]
  }
 ],
 "metadata": {},
 "nbformat": 4,
 "nbformat_minor": 5
}
